{
 "cells": [
  {
   "cell_type": "code",
   "execution_count": 4,
   "metadata": {},
   "outputs": [
    {
     "name": "stdout",
     "output_type": "stream",
     "text": [
      "hello world\n"
     ]
    }
   ],
   "source": [
    "print(\"hello world\")"
   ]
  },
  {
   "cell_type": "code",
   "execution_count": 5,
   "metadata": {},
   "outputs": [
    {
     "name": "stdout",
     "output_type": "stream",
     "text": [
      "--- count inversion number using merge sort ---\n",
      "nums  : [5, 0, 4, 2, 3, 1, 3, 3, 3, 6, 8, 7]\n",
      "sorted: [0, 1, 2, 3, 3, 3, 3, 4, 5, 6, 7, 8]\n",
      "inversion number: 17\n"
     ]
    }
   ],
   "source": [
    "#!/usr/bin/python\n",
    "# -*- coding: UTF-8 -*-\n",
    "\n",
    "inversion_num = 0\n",
    "\n",
    "\n",
    "def merge_sort_counting(nums, start, end):\n",
    "    if start >= end:\n",
    "        return\n",
    "\n",
    "    mid = (start + end)//2\n",
    "    merge_sort_counting(nums, start, mid)\n",
    "    merge_sort_counting(nums, mid+1, end)\n",
    "    merge(nums, start, mid, end)\n",
    "\n",
    "\n",
    "def merge(nums, start, mid, end):\n",
    "    global inversion_num\n",
    "    i = start\n",
    "    j = mid+1\n",
    "    tmp = []\n",
    "    while i <= mid and j <= end:\n",
    "        if nums[i] <= nums[j]:\n",
    "            inversion_num += j - mid - 1\n",
    "            tmp.append(nums[i])\n",
    "            i += 1\n",
    "        else:\n",
    "            tmp.append(nums[j])\n",
    "            j += 1\n",
    "\n",
    "    while i <= mid:\n",
    "        # 这时nums[i]的逆序数是整个nums[mid+1: end+1]的长度\n",
    "        inversion_num += end - mid\n",
    "        tmp.append(nums[i])\n",
    "        i += 1\n",
    "\n",
    "    while j <= end:\n",
    "        tmp.append(nums[j])\n",
    "        j += 1\n",
    "\n",
    "    nums[start: end+1] = tmp\n",
    "\n",
    "\n",
    "if __name__ == '__main__':\n",
    "    print('--- count inversion number using merge sort ---')\n",
    "    # nums = [5, 0, 4, 2, 3, 1, 6, 8, 7]\n",
    "    nums = [5, 0, 4, 2, 3, 1, 3, 3, 3, 6, 8, 7]\n",
    "    print('nums  : {}'.format(nums))\n",
    "    merge_sort_counting(nums, 0, len(nums)-1)\n",
    "    print('sorted: {}'.format(nums))\n",
    "    print('inversion number: {}'.format(inversion_num))\n"
   ]
  },
  {
   "cell_type": "code",
   "execution_count": 6,
   "metadata": {},
   "outputs": [
    {
     "name": "stdout",
     "output_type": "stream",
     "text": [
      "[9, 8, 3, 3, 7, 1]\n",
      "9\n",
      "8\n",
      "7\n",
      "3\n",
      "3\n",
      "1\n",
      "[-2, 0, 1, 2, 3, 4, 5, 6, 6, 7, 8, 9, 10]\n"
     ]
    }
   ],
   "source": [
    "\"\"\"\n",
    "    Max-heap\n",
    "\n",
    "    Author: Wenru Dong\n",
    "\"\"\"\n",
    "\n",
    "from typing import Optional, List\n",
    "\n",
    "class Heap:\n",
    "    def __init__(self, capacity: int):\n",
    "        self._data = [0] * (capacity + 1)\n",
    "        self._capacity = capacity\n",
    "        self._count = 0\n",
    "    \n",
    "    @classmethod\n",
    "    def _parent(cls, child_index: int) -> int:\n",
    "        \"\"\"The parent index.\"\"\"\n",
    "        return child_index // 2\n",
    "    \n",
    "    @classmethod\n",
    "    def _left(cls, parent_index: int) -> int:\n",
    "        \"\"\"The left child index.\"\"\"\n",
    "        return 2 * parent_index\n",
    "    \n",
    "    @classmethod\n",
    "    def _right(cls, parent_index: int) -> int:\n",
    "        \"\"\"The right child index.\"\"\"\n",
    "        return 2 * parent_index + 1\n",
    "\n",
    "    def _siftup(self) -> None:\n",
    "        i, parent = self._count, Heap._parent(self._count)\n",
    "        while parent and self._data[i] > self._data[parent]:\n",
    "            self._data[i], self._data[parent] = self._data[parent], self._data[i]\n",
    "            i, parent = parent, Heap._parent(parent)\n",
    "\n",
    "    @classmethod\n",
    "    def _siftdown(cls, a: List[int], count: int, root_index: int = 1) -> None:\n",
    "        i = larger_child_index = root_index\n",
    "        while True:\n",
    "            left, right = cls._left(i), cls._right(i)\n",
    "            if left <= count and a[i] < a[left]:\n",
    "                larger_child_index = left\n",
    "            if right <= count and a[larger_child_index] < a[right]:\n",
    "                larger_child_index = right\n",
    "            if larger_child_index == i: break\n",
    "            a[i], a[larger_child_index] = a[larger_child_index], a[i]\n",
    "            i = larger_child_index\n",
    "\n",
    "    def insert(self, value: int) -> None:\n",
    "        if self._count >= self._capacity: return\n",
    "        self._count += 1\n",
    "        self._data[self._count] = value\n",
    "        self._siftup()\n",
    "\n",
    "    def remove_max(self) -> Optional[int]:\n",
    "        if self._count:\n",
    "            result = self._data[1]\n",
    "            self._data[1] = self._data[self._count]\n",
    "            self._count -= 1\n",
    "            Heap._siftdown(self._data, self._count)\n",
    "            return result\n",
    "\n",
    "    @classmethod\n",
    "    def build_heap(cls, a: List[int]) -> None:\n",
    "        \"\"\"Data in a needs to start from index 1.\"\"\"\n",
    "        for i in range((len(a) - 1)//2, 0, -1):\n",
    "            cls._siftdown(a, len(a) - 1, i)\n",
    "    \n",
    "    @classmethod\n",
    "    def sort(cls, a: List[int]) -> None:\n",
    "        \"\"\"Data in a needs to start from index 1.\"\"\"\n",
    "        cls.build_heap(a)\n",
    "        k = len(a) - 1\n",
    "        while k > 1:\n",
    "            a[1], a[k] = a[k], a[1]\n",
    "            k -= 1\n",
    "            cls._siftdown(a, k)\n",
    "\n",
    "    def __repr__(self):\n",
    "        return self._data[1 : self._count + 1].__repr__()\n",
    "\n",
    "\n",
    "if __name__ == \"__main__\":\n",
    "    hp = Heap(10)\n",
    "    hp.insert(3)\n",
    "    hp.insert(9)\n",
    "    hp.insert(1)\n",
    "    hp.insert(8)\n",
    "    hp.insert(7)\n",
    "    hp.insert(3)\n",
    "    print(hp)\n",
    "    for _ in range(6):\n",
    "        print(hp.remove_max())\n",
    "    a = [0, 6, 3, 4, 0, 9, 2, 7, 5, -2, 8, 1, 6, 10]\n",
    "    Heap.sort(a)\n",
    "    print(a[1:])"
   ]
  },
  {
   "cell_type": "code",
   "execution_count": null,
   "metadata": {},
   "outputs": [],
   "source": []
  },
  {
   "cell_type": "code",
   "execution_count": null,
   "metadata": {},
   "outputs": [],
   "source": []
  },
  {
   "cell_type": "code",
   "execution_count": null,
   "metadata": {},
   "outputs": [],
   "source": []
  },
  {
   "cell_type": "code",
   "execution_count": null,
   "metadata": {},
   "outputs": [],
   "source": []
  },
  {
   "cell_type": "code",
   "execution_count": null,
   "metadata": {},
   "outputs": [],
   "source": []
  },
  {
   "cell_type": "code",
   "execution_count": null,
   "metadata": {},
   "outputs": [],
   "source": []
  },
  {
   "cell_type": "code",
   "execution_count": null,
   "metadata": {},
   "outputs": [],
   "source": []
  },
  {
   "cell_type": "code",
   "execution_count": null,
   "metadata": {},
   "outputs": [],
   "source": []
  },
  {
   "cell_type": "code",
   "execution_count": null,
   "metadata": {},
   "outputs": [],
   "source": []
  },
  {
   "cell_type": "code",
   "execution_count": null,
   "metadata": {},
   "outputs": [],
   "source": []
  },
  {
   "cell_type": "code",
   "execution_count": null,
   "metadata": {},
   "outputs": [],
   "source": []
  }
 ],
 "metadata": {
  "interpreter": {
   "hash": "40d3a090f54c6569ab1632332b64b2c03c39dcf918b08424e98f38b5ae0af88f"
  },
  "kernelspec": {
   "display_name": "Python 3.9.7 ('base')",
   "language": "python",
   "name": "python3"
  },
  "language_info": {
   "codemirror_mode": {
    "name": "ipython",
    "version": 3
   },
   "file_extension": ".py",
   "mimetype": "text/x-python",
   "name": "python",
   "nbconvert_exporter": "python",
   "pygments_lexer": "ipython3",
   "version": "3.9.7"
  },
  "orig_nbformat": 4
 },
 "nbformat": 4,
 "nbformat_minor": 2
}
